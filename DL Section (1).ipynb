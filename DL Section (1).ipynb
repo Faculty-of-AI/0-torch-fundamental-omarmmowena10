{
 "cells": [
  {
   "cell_type": "code",
   "execution_count": 5,
   "id": "51a3a53c",
   "metadata": {},
   "outputs": [
    {
     "data": {
      "text/plain": [
       "(tensor([[0.3164, 0.3560, 0.0563, 0.6868, 0.5204, 0.2001, 0.2517],\n",
       "         [0.6665, 0.2032, 0.8788, 0.9705, 0.7072, 0.2986, 0.4758],\n",
       "         [0.1222, 0.8173, 0.0835, 0.1290, 0.2250, 0.0706, 0.9109],\n",
       "         [0.1243, 0.2728, 0.3292, 0.0940, 0.7945, 0.4762, 0.4285],\n",
       "         [0.4563, 0.1334, 0.6018, 0.4384, 0.2285, 0.6115, 0.3834],\n",
       "         [0.8319, 0.1004, 0.4309, 0.2455, 0.9718, 0.6910, 0.2295],\n",
       "         [0.3385, 0.1894, 0.8331, 0.2601, 0.7977, 0.6918, 0.2037]]),\n",
       " torch.float32)"
      ]
     },
     "execution_count": 5,
     "metadata": {},
     "output_type": "execute_result"
    }
   ],
   "source": [
    "\n",
    "#1111\n",
    "random_tensor = torch.rand(size=(7, 7))\n",
    "random_tensor, random_tensor.dtype"
   ]
  },
  {
   "cell_type": "code",
   "execution_count": 6,
   "id": "a2e00ccf",
   "metadata": {},
   "outputs": [
    {
     "name": "stdout",
     "output_type": "stream",
     "text": [
      "tensor([[3.2893],\n",
      "        [1.8615],\n",
      "        [2.3932],\n",
      "        [3.0200],\n",
      "        [3.9279],\n",
      "        [2.1280],\n",
      "        [3.3274]])\n",
      "Result shape: torch.Size([7, 1])\n"
     ]
    }
   ],
   "source": [
    "#22222\n",
    "\n",
    "random_tensor = torch.rand(size=(7, 7))\n",
    "\n",
    "other_tensor = torch.rand(size=(1, 7))\n",
    "\n",
    "result = torch.matmul(random_tensor, other_tensor.T)\n",
    "\n",
    "print(result)\n",
    "print(\"Result shape:\", result.shape)\n"
   ]
  },
  {
   "cell_type": "code",
   "execution_count": 7,
   "id": "3b4386d5",
   "metadata": {},
   "outputs": [
    {
     "name": "stdout",
     "output_type": "stream",
     "text": [
      "tensor([[1.8542],\n",
      "        [1.9611],\n",
      "        [2.2884],\n",
      "        [3.0481],\n",
      "        [1.7067],\n",
      "        [2.5290],\n",
      "        [1.7989]]) torch.Size([7, 1])\n"
     ]
    }
   ],
   "source": [
    "#3333\n",
    "import torch\n",
    "\n",
    "\n",
    "torch.manual_seed(0)\n",
    "\n",
    "random_tensor = torch.rand(size=(7, 7))\n",
    "\n",
    "\n",
    "other_tensor = torch.rand(size=(1, 7))\n",
    "\n",
    "result = torch.matmul(random_tensor, other_tensor.T)\n",
    "\n",
    "print(result, result.shape)\n"
   ]
  },
  {
   "cell_type": "code",
   "execution_count": 8,
   "id": "399a5476",
   "metadata": {},
   "outputs": [
    {
     "name": "stdout",
     "output_type": "stream",
     "text": [
      "No GPU detected, seed set only for CPU ⚙️\n"
     ]
    }
   ],
   "source": [
    "#4444444\n",
    "import torch\n",
    "\n",
    "torch.manual_seed(0)\n",
    "\n",
    "if torch.cuda.is_available():\n",
    "    torch.cuda.manual_seed(1234)\n",
    "    torch.cuda.manual_seed_all(1234)\n",
    "    print(\"GPU seed set to 1234 ✅\")\n",
    "else:\n",
    "    print(\"No GPU detected, seed set only for CPU ⚙️\")\n"
   ]
  },
  {
   "cell_type": "code",
   "execution_count": 11,
   "id": "f5c2f3ef",
   "metadata": {},
   "outputs": [
    {
     "name": "stdout",
     "output_type": "stream",
     "text": [
      "Device: cpu\n",
      "tensor([[0.0290, 0.4019, 0.2598],\n",
      "        [0.3666, 0.0583, 0.7006]]) tensor([[0.0518, 0.4681, 0.6738],\n",
      "        [0.3315, 0.7837, 0.5631]])\n",
      "tensor([[0.3647, 0.4709],\n",
      "        [0.5184, 0.5617]]) torch.Size([2, 2])\n"
     ]
    }
   ],
   "source": [
    "#555555\n",
    "import torch\n",
    "\n",
    "\n",
    "torch.manual_seed(1234)\n",
    "\n",
    "\n",
    "device = \"cuda\" if torch.cuda.is_available() else \"cpu\"\n",
    "print(\"Device:\", device)\n",
    "\n",
    "\n",
    "tensor1 = torch.rand(2, 3).to(device)\n",
    "tensor2 = torch.rand(2, 3).to(device)\n",
    "\n",
    "\n",
    "print(tensor1, tensor2)\n",
    "#666666666\n",
    "res = torch.matmul(tensor1,tensor2.T )\n",
    "print(res,res.size())"
   ]
  },
  {
   "cell_type": "code",
   "execution_count": 12,
   "id": "d4f65e14",
   "metadata": {},
   "outputs": [
    {
     "name": "stdout",
     "output_type": "stream",
     "text": [
      "Maximum value: tensor(0.5617)\n",
      "Minimum value: tensor(0.3647)\n"
     ]
    }
   ],
   "source": [
    "#77777\n",
    "max_val = torch.max(res)\n",
    "min_val = torch.min(res)\n",
    "\n",
    "print(\"Maximum value:\", max_val)\n",
    "print(\"Minimum value:\", min_val)\n"
   ]
  },
  {
   "cell_type": "code",
   "execution_count": 13,
   "id": "be807c00",
   "metadata": {},
   "outputs": [
    {
     "name": "stdout",
     "output_type": "stream",
     "text": [
      "Maximum index: tensor(3)\n",
      "Minimum index: tensor(0)\n"
     ]
    }
   ],
   "source": [
    "#8888\n",
    "max_index = torch.argmax(res)\n",
    "min_index = torch.argmin(res)\n",
    "\n",
    "print(\"Maximum index:\", max_index)\n",
    "print(\"Minimum index:\", min_index)"
   ]
  },
  {
   "cell_type": "code",
   "execution_count": 15,
   "id": "359d7e97",
   "metadata": {},
   "outputs": [
    {
     "name": "stdout",
     "output_type": "stream",
     "text": [
      "tensor([[[[0.5349, 0.1988, 0.6592, 0.6569, 0.2328, 0.4251, 0.2071, 0.6297,\n",
      "           0.3653, 0.8513]]]]) torch.Size([1, 1, 1, 10])\n",
      "tensor([0.5349, 0.1988, 0.6592, 0.6569, 0.2328, 0.4251, 0.2071, 0.6297, 0.3653,\n",
      "        0.8513]) torch.Size([10])\n"
     ]
    }
   ],
   "source": [
    "#9999\n",
    "torch.manual_seed(7)\n",
    "\n",
    "t1 = torch.rand(1, 1, 1, 10)\n",
    "\n",
    "t2 = t1.squeeze()\n",
    "\n",
    "print(t1, t1.shape)\n",
    "print(t2, t2.shape)\n"
   ]
  },
  {
   "cell_type": "code",
   "execution_count": null,
   "id": "8481bb73",
   "metadata": {},
   "outputs": [],
   "source": []
  }
 ],
 "metadata": {
  "kernelspec": {
   "display_name": "Python 3 (ipykernel)",
   "language": "python",
   "name": "python3"
  },
  "language_info": {
   "codemirror_mode": {
    "name": "ipython",
    "version": 3
   },
   "file_extension": ".py",
   "mimetype": "text/x-python",
   "name": "python",
   "nbconvert_exporter": "python",
   "pygments_lexer": "ipython3",
   "version": "3.11.5"
  }
 },
 "nbformat": 4,
 "nbformat_minor": 5
}
